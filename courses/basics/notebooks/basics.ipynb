{
 "cells": [
  {
   "cell_type": "markdown",
   "metadata": {},
   "source": [
    "# PC 1"
   ]
  },
  {
   "cell_type": "markdown",
   "metadata": {},
   "source": [
    "Dans cette première session pratique, vous allez vous familiariser avec le langage en effectuant des petits exercices. Comme vous avez pu le voir en cours, le langage C++ est un langage compilé et il est donc nécessaire d'effectuer une opération (la compilation) avant de pouvoir exécuter son code. Nous avons préféré y aller par étapes et nous n'avons donc pas encore introduit ce mécanisme qui sera abordé lors du troisième cours.\n",
    "\n",
    "Pour commencer à programmer en C++, vous allez donc utiliser un notebook où les cellules de code sont vues comme une fonction `main` globale et les variables que vous définissez peuvent être vues et utilisées d'une cellule à l'autre. En voici un exemple"
   ]
  },
  {
   "cell_type": "code",
   "execution_count": 1,
   "metadata": {},
   "outputs": [],
   "source": [
    "int a = 1;"
   ]
  },
  {
   "cell_type": "code",
   "execution_count": 2,
   "metadata": {},
   "outputs": [],
   "source": [
    "int b = 3 + a;"
   ]
  },
  {
   "cell_type": "markdown",
   "metadata": {},
   "source": [
    "Pour afficher une variable, il suffit de mettre juste son nom sans `;` à la fin de la ligne. Attention, ceci est uniquement valable dans un notebook."
   ]
  },
  {
   "cell_type": "code",
   "execution_count": 3,
   "metadata": {},
   "outputs": [
    {
     "data": {
      "text/plain": [
       "4"
      ]
     },
     "execution_count": 3,
     "metadata": {},
     "output_type": "execute_result"
    }
   ],
   "source": [
    "b"
   ]
  },
  {
   "cell_type": "markdown",
   "metadata": {},
   "source": [
    "Si vous souhaitez écrire dans le flux de sortie comme vous le feriez dans un script C++, il faut d'abord inclure `iostream` où se trouve la fonction `cout`."
   ]
  },
  {
   "cell_type": "code",
   "execution_count": 2,
   "metadata": {},
   "outputs": [],
   "source": [
    "#include <iostream>"
   ]
  },
  {
   "cell_type": "markdown",
   "metadata": {},
   "source": [
    "Puis vous pouvez utiliser `cout`."
   ]
  },
  {
   "cell_type": "code",
   "execution_count": 5,
   "metadata": {},
   "outputs": [
    {
     "name": "stdout",
     "output_type": "stream",
     "text": [
      "b vaut 4\n"
     ]
    }
   ],
   "source": [
    "std::cout << \"b vaut \" << b << std::endl;"
   ]
  },
  {
   "cell_type": "markdown",
   "metadata": {},
   "source": [
    "Enfin, un point important des notebooks utilisant un kernel C++ est la possibilité de retyper une variable. Par exemple, notre `b` peut devenir une chaîne de caractère."
   ]
  },
  {
   "cell_type": "code",
   "execution_count": 6,
   "metadata": {},
   "outputs": [],
   "source": [
    "#include <string>"
   ]
  },
  {
   "cell_type": "code",
   "execution_count": 7,
   "metadata": {},
   "outputs": [],
   "source": [
    "std::string b = \"four\";"
   ]
  },
  {
   "cell_type": "code",
   "execution_count": 8,
   "metadata": {},
   "outputs": [
    {
     "data": {
      "text/plain": [
       "\"four\""
      ]
     },
     "execution_count": 8,
     "metadata": {},
     "output_type": "execute_result"
    }
   ],
   "source": [
    "b"
   ]
  },
  {
   "cell_type": "markdown",
   "metadata": {},
   "source": [
    "Ceci est très pratique lorsque l'on développe des petits prototypes dans les notebooks. Mais gardez en tête que ce n'est pas un comportement valide du C++ et que l'on ne peut pas faire ça lorsque l'on utilise des scripts C++."
   ]
  },
  {
   "cell_type": "markdown",
   "metadata": {
    "tags": []
   },
   "source": [
    "Après cette brève introduction, passons aux exercices !\n",
    "\n",
    "## Manipulation des types et premiers essais"
   ]
  },
  {
   "cell_type": "markdown",
   "metadata": {
    "tags": []
   },
   "source": [
    "1. Initialiser plusieurs variables en leur donnant les noms que vous voulez et affichez leur valeur."
   ]
  },
  {
   "cell_type": "code",
   "execution_count": null,
   "metadata": {},
   "outputs": [],
   "source": []
  },
  {
   "cell_type": "markdown",
   "metadata": {},
   "source": [
    "2. Inclure le fichier d'entête `limits` et affichier les limites min et max pour les types `int`, `float` et `double` (cf https://en.cppreference.com/w/cpp/types/numeric_limits)."
   ]
  },
  {
   "cell_type": "code",
   "execution_count": null,
   "metadata": {},
   "outputs": [],
   "source": []
  },
  {
   "cell_type": "markdown",
   "metadata": {},
   "source": [
    "3- On souhaite permuter deux nombres réels `a` et `b` sans utiliser de variable intermédiaire en utlisant l'algorithme suivant\n",
    "\n",
    "```\n",
    "a = a + b\n",
    "b = a - b\n",
    "a = a - b\n",
    "```\n",
    "\n",
    "Ecrire cet algorithme en utilisant le type `float` pour `a` et `b` avec les valeurs intitiales suivantes\n",
    "\n",
    "- `a` vaut 1 et `b` vaut 2\n",
    "- `a` vaut 1 et `b` vaut 1e-10\n",
    "\n",
    "Faites de même en utilisant le type `double`.\n",
    "\n",
    "Pouvez-vous expliquer le comportement observé pour le type `float` avec le deuxième cas ?"
   ]
  },
  {
   "cell_type": "code",
   "execution_count": null,
   "metadata": {},
   "outputs": [],
   "source": []
  },
  {
   "cell_type": "markdown",
   "metadata": {},
   "source": [
    "## Structures de contrôle"
   ]
  },
  {
   "cell_type": "markdown",
   "metadata": {},
   "source": [
    "1- Ecrire à l'aide d'une boucle `for` puis à l'aide d'une boucle `while` le calcul de $n!$. On écrira à la fin le résultat pour vérifier la validité de l'implémentation. "
   ]
  },
  {
   "cell_type": "markdown",
   "metadata": {},
   "source": [
    "**Correction possible**"
   ]
  },
  {
   "cell_type": "code",
   "execution_count": 9,
   "metadata": {},
   "outputs": [
    {
     "data": {
      "text/plain": [
       "3628800"
      ]
     },
     "execution_count": 9,
     "metadata": {},
     "output_type": "execute_result"
    }
   ],
   "source": [
    "std::size_t result = 1;\n",
    "for(std::size_t n = 1; n <= 10; ++n)\n",
    "{\n",
    "    result *= n;\n",
    "}\n",
    "result"
   ]
  },
  {
   "cell_type": "code",
   "execution_count": 10,
   "metadata": {},
   "outputs": [
    {
     "data": {
      "text/plain": [
       "3628800"
      ]
     },
     "execution_count": 10,
     "metadata": {},
     "output_type": "execute_result"
    }
   ],
   "source": [
    "std::size_t result = 1;\n",
    "for(std::size_t n = 1; n <= 10; result *= n, ++n);\n",
    "result"
   ]
  },
  {
   "cell_type": "code",
   "execution_count": 11,
   "metadata": {},
   "outputs": [
    {
     "data": {
      "text/plain": [
       "3628800"
      ]
     },
     "execution_count": 11,
     "metadata": {},
     "output_type": "execute_result"
    }
   ],
   "source": [
    "std::size_t result = 1, n = 10;\n",
    "while (n > 1)\n",
    "{\n",
    "    result *= n--;\n",
    "}\n",
    "result"
   ]
  },
  {
   "cell_type": "markdown",
   "metadata": {},
   "source": [
    "2- Ecrire un algorithme qui donne la représentation binaire d'un entier signé. On utilisera `std::vector` pour stocker les valeurs et les afficher à la fin dans le bon ordre.\n",
    "\n",
    "Pour ce faire, il vous faut d'abord inclure `vector`.\n"
   ]
  },
  {
   "cell_type": "code",
   "execution_count": 12,
   "metadata": {},
   "outputs": [],
   "source": [
    "#include <vector>"
   ]
  },
  {
   "cell_type": "markdown",
   "metadata": {},
   "source": [
    "Voici un exemple simple d'utilisation où l'on crée un vecteur de booléens de taille 10. Par défaut, les valeurs sont initialisées à 0. On met ensuite à 1 une valeur sur deux puis on affiche."
   ]
  },
  {
   "cell_type": "code",
   "execution_count": 13,
   "metadata": {},
   "outputs": [],
   "source": [
    "std::vector<bool> v(10);\n",
    "\n",
    "for (std::size_t i = 0; i < v.size(); i+=2)\n",
    "{\n",
    "    v[i] = 1;\n",
    "}"
   ]
  },
  {
   "cell_type": "code",
   "execution_count": 14,
   "metadata": {},
   "outputs": [
    {
     "data": {
      "text/plain": [
       "{ true, false, true, false, true, false, true, false, true, false }"
      ]
     },
     "execution_count": 14,
     "metadata": {},
     "output_type": "execute_result"
    }
   ],
   "source": [
    "v"
   ]
  },
  {
   "cell_type": "code",
   "execution_count": 15,
   "metadata": {},
   "outputs": [
    {
     "name": "stdout",
     "output_type": "stream",
     "text": [
      "1 0 1 0 1 0 1 0 1 0 "
     ]
    }
   ],
   "source": [
    "for (std::size_t i = 0; i < v.size(); ++i)\n",
    "{\n",
    "    std::cout << v[i] << \" \";\n",
    "}"
   ]
  },
  {
   "cell_type": "markdown",
   "metadata": {
    "tags": []
   },
   "source": [
    "**Correction possible**"
   ]
  },
  {
   "cell_type": "code",
   "execution_count": 16,
   "metadata": {},
   "outputs": [],
   "source": [
    "ushort a = 11;\n",
    "std::size_t index = 0;\n",
    "\n",
    "std::vector<bool> bin_a(sizeof(a)*8);\n",
    "\n",
    "while (a != 0)\n",
    "{\n",
    "    bin_a[index++] = (a & 1);\n",
    "    a >>= 1;\n",
    "}"
   ]
  },
  {
   "cell_type": "code",
   "execution_count": 17,
   "metadata": {},
   "outputs": [
    {
     "name": "stdout",
     "output_type": "stream",
     "text": [
      "0000000000001011"
     ]
    }
   ],
   "source": [
    "for (int i = bin_a.size() - 1; i > -1; --i)\n",
    "{\n",
    "    std::cout << bin_a[i];\n",
    "}"
   ]
  },
  {
   "cell_type": "markdown",
   "metadata": {},
   "source": [
    "3- Pour représenter un nombre entier signé `a`, on utilise le complément à deux. Le bit de poids fort (le plus à gauche) représente le signe (`0` pour positif et `-1` pour négatif). L'algorithme est le suivant:\n",
    "\n",
    "- Mettre le signe sur le bit de poids fort\n",
    "- Sur les autres bits, représenter en binaire le nombre `a` si `a` est positif, `-a` sinon.\n",
    "- Effectuer le complément à 1 sur ces bits ce qui revient à inverser les bits (0 devient 1 et 1 devient 0)\n",
    "- Ajouter 1\n",
    "\n",
    "On vérifiera le résultat en utilisant `bitset` de la librairie standard dont voici un exemple d'utilisation"
   ]
  },
  {
   "cell_type": "code",
   "execution_count": 18,
   "metadata": {},
   "outputs": [
    {
     "name": "stdout",
     "output_type": "stream",
     "text": [
      "1111111111111110\n"
     ]
    }
   ],
   "source": [
    "#include <bitset>\n",
    "std::cout << std::bitset<sizeof(short)*8>(-2) << std::endl;"
   ]
  },
  {
   "cell_type": "markdown",
   "metadata": {},
   "source": [
    "**Correction possible**"
   ]
  },
  {
   "cell_type": "code",
   "execution_count": 19,
   "metadata": {},
   "outputs": [],
   "source": [
    "short a = -2;\n",
    "std::size_t index = 0;\n",
    "std::vector<bool> bin_a(sizeof(a)*8);\n",
    "\n",
    "bin_a[bin_a.size() - 1] = (a >= 0)? 0: 1;\n",
    "short c = (a >= 0)? a: -a;\n",
    "while (c != 0 && index < bin_a.size() - 1)\n",
    "{\n",
    "    bin_a[index++] = (c & 1);\n",
    "    c >>= 1;\n",
    "}"
   ]
  },
  {
   "cell_type": "code",
   "execution_count": 20,
   "metadata": {},
   "outputs": [],
   "source": [
    "for (std::size_t i = 0; i < bin_a.size()-1; ++i)\n",
    "{\n",
    "    bin_a[i] = !bin_a[i];\n",
    "}"
   ]
  },
  {
   "cell_type": "code",
   "execution_count": 21,
   "metadata": {},
   "outputs": [],
   "source": [
    "bool ret = true;\n",
    "std::size_t index = 0;\n",
    "\n",
    "while (ret and index < bin_a.size()-1)\n",
    "{\n",
    "    ret = bin_a[index] & 1;\n",
    "    bin_a[index] = bin_a[index] ^ 1;\n",
    "    index++;\n",
    "}"
   ]
  },
  {
   "cell_type": "code",
   "execution_count": 22,
   "metadata": {},
   "outputs": [
    {
     "name": "stdout",
     "output_type": "stream",
     "text": [
      "1111111111111110"
     ]
    }
   ],
   "source": [
    "for (int i = bin_a.size() - 1; i > -1; --i)\n",
    "{\n",
    "    std::cout << bin_a[i];\n",
    "}"
   ]
  },
  {
   "cell_type": "markdown",
   "metadata": {},
   "source": [
    "## Congruence de Zeller"
   ]
  },
  {
   "cell_type": "markdown",
   "metadata": {},
   "source": [
    "La congruence de Zeller est un algorithme permettant de calculer le jour de la semaine pour n'importe quelle date du calendrier Grégorien ou Julien.\n",
    "\n",
    "Pour le calendrier Grégorien, la congruence de Zeller est donnée par la formule suivante\n",
    "\n",
    "$$\n",
    "h = \\left( q + \\left\\lfloor \\frac{13(m+1)}{5} \\right\\rfloor + K + \\left\\lfloor \\frac{K}{4}  \\right\\rfloor + \\left\\lfloor \\frac{J}{4}  \\right\\rfloor + 5J \\right) \\mod 7\n",
    "$$\n",
    "\n",
    "où\n",
    "\n",
    "- $h$ est le jour de la semaine (0=samedi, 1=dimanche, 2=lundi, ..., 6=vendredi)\n",
    "- $q$ est le jour du mois\n",
    "- $m$ est le mois (3=mars, 4=avril, ... 14=février)\n",
    "- $K$ est l'année du siècle (année mod 100)\n",
    "- $J$ est $\\left\\lfloor année/100 \\right\\rfloor$\n",
    "- $\\left\\lfloor \\cdots \\right\\rfloor$ est la partie entière inférieure"
   ]
  },
  {
   "cell_type": "markdown",
   "metadata": {},
   "source": [
    "La fonction `floor` se trouve dans `cmath` (cf https://en.cppreference.com/w/cpp/numeric/math/floor)"
   ]
  },
  {
   "cell_type": "markdown",
   "metadata": {},
   "source": [
    "Ecrivez cet algorithme en C++ et validez avec les dates suivantes\n",
    "\n",
    "- 4 janvier 2022: mardi\n",
    "- 21 juillet 1969: lundi\n",
    "- 11 août 1999: mercredi"
   ]
  },
  {
   "cell_type": "markdown",
   "metadata": {},
   "source": [
    "**Correction possible**"
   ]
  },
  {
   "cell_type": "code",
   "execution_count": 23,
   "metadata": {},
   "outputs": [],
   "source": [
    "std::size_t day = 11;\n",
    "std::size_t month = 8;\n",
    "std::size_t year = 1999;"
   ]
  },
  {
   "cell_type": "code",
   "execution_count": 24,
   "metadata": {},
   "outputs": [],
   "source": [
    "std::size_t K = year%100;\n",
    "std::size_t J = year/100;"
   ]
  },
  {
   "cell_type": "code",
   "execution_count": 25,
   "metadata": {},
   "outputs": [
    {
     "data": {
      "text/plain": [
       "4"
      ]
     },
     "execution_count": 25,
     "metadata": {},
     "output_type": "execute_result"
    }
   ],
   "source": [
    "static_cast<std::size_t>(day + std::floor(13*(month + 1)/5.) + K + std::floor(K/4.) + std::floor(J/4.) + 5*J)%7"
   ]
  },
  {
   "cell_type": "markdown",
   "metadata": {},
   "source": [
    "## Générateur congruentiel linéaire"
   ]
  },
  {
   "cell_type": "markdown",
   "metadata": {},
   "source": [
    "La génération de nombres pseudo-aléatoires est utilisée dans de nombreux domaines: en cryptographie, dans les jeux videos pour la création de texture, en simulation (pour la méthode de Monte Carlo par exemple), ... Ils se sont complexifiés au fil des années pour permettre des chiffrements de plus en plus difficiles à craquer. L'augementation de la puissance de calcul des ordinateurs a joué un grand rôle.\n",
    "\n",
    "Nous allons ici nous intéresser à un des premiers générateurs de nombres pseudo-aléatoires qui est assez simple. Il s'écrit\n",
    "\n",
    "$$\n",
    "X_{n+1} = \\left( a X_n + c \\right) \\mod m\n",
    "$$\n",
    "\n",
    "où $a$ est le multiplicateur, $c$ l'incrément et $m$ le module.\n",
    "\n",
    "Ecrivez l'algorithme qui permet d'écrire les 20 premiers termes de la suite en prenant $a=25$, $c=16$ et $m=256$. On prendra différentes valeurs de $X_0$ appelé la \"graine\" ou \"seed\" en anglais.\n",
    "\n",
    "- $X_0 = 125$\n",
    "- $X_0 = 96$\n",
    "- $X_0 = 50$\n",
    "- $X_0 = 10$"
   ]
  },
  {
   "cell_type": "markdown",
   "metadata": {},
   "source": [
    "**Correction possible**"
   ]
  },
  {
   "cell_type": "code",
   "execution_count": 26,
   "metadata": {},
   "outputs": [],
   "source": [
    "int a = 25;\n",
    "int c = 16;\n",
    "int m = 256;"
   ]
  },
  {
   "cell_type": "code",
   "execution_count": 27,
   "metadata": {},
   "outputs": [
    {
     "name": "stdout",
     "output_type": "stream",
     "text": [
      "avec X0 = 125, la suite : 125 69 205 21 29 229 109 181 189 133 13 85 93 37 173 245 253 197 77 149 157 \n",
      "avec X0 = 96, la suite : 96 112 0 16 160 176 64 80 224 240 128 144 32 48 192 208 96 112 0 16 160 \n",
      "avec X0 = 50, la suite : 50 242 178 114 50 242 178 114 50 242 178 114 50 242 178 114 50 242 178 114 50 \n",
      "avec X0 = 10, la suite : 10 10 10 10 10 10 10 10 10 10 10 10 10 10 10 10 10 10 10 10 10 \n"
     ]
    }
   ],
   "source": [
    "std::vector<int> x0{125, 96, 50, 10};\n",
    "\n",
    "for(std::size_t j = 0; j < x0.size(); ++j)\n",
    "{\n",
    "    std::cout << \"avec X0 = \" << x0[j] << \", la suite : \";\n",
    "    \n",
    "    int x = x0[j];\n",
    "    std::cout << x << \" \";\n",
    "    for (std::size_t i=0; i<20; ++i)\n",
    "    {\n",
    "        x = (a*x + c)%m;\n",
    "        std::cout << x << \" \";\n",
    "    }\n",
    "    std::cout << std::endl;\n",
    "}"
   ]
  },
  {
   "cell_type": "markdown",
   "metadata": {},
   "source": [
    "On constate que le choix des coefficients $a$, $c$ et $m$ est important pour avoir un générateur de bonne qualité. Un des critères de bonne qualité est de pouvoir avoir toutes les valeurs entre $0$ et $m-1$ pour n'importe quelle graine $X_0$. On appelle cela maximiser la période du générateur.\n",
    "\n",
    "Or, ce qui est bien avec ce générateur, ce sont que les propiétés sur $a$ et $c$ pour obtenir une période de $m$ sont connues.\n",
    "\n",
    "Si $c\\neq 0$, la période d’un générateur congruentiel linéaire est maximale si et seulement si :\n",
    "\n",
    "- $c$ est premier avec $m$. $pgcd(c,m)=1$.\n",
    "- Pour chaque nombre premier $p$ divisant $m$, $(a-1)$ est un multiple de $p$.\n",
    "- $(a-1)$ est un multiple de $4$ si $m$ en est un.\n",
    "\n",
    "\n",
    "Si $c=0$, la période d'un générateur congruentiel linéaire est maximale si :\n",
    "\n",
    "- $m$ est premier.\n",
    "- $a^((m-1))-1$ est un multiple de $m$.\n",
    "- $a^{j}-1$ n'est pas divisible par $m$, pour $j=1,\\cdots, m-2$. \n",
    "\n",
    "Nous pouvons voir que nous avons besoin de deux ingrédients pour pouvoir trouver des valeurs de $a$ et $c$ optimales. Dans un premier temps, nous avons besoin de calculer un $pgcd$ (plus grand commun diviseur). Nous pouvons utliser l'algortihme d'Euclide pour cela qui est donné par le pseudo code suivant\n",
    "\n",
    "```\n",
    "function gcd(a, b)\n",
    "    while b ≠ 0\n",
    "        t := b\n",
    "        b := a mod b\n",
    "        a := t\n",
    "    return a\n",
    "```\n",
    "\n",
    "Etant donné que nous n'avons pas encore vu les fonctions, vous écrirez cette algorithme directement dans une cellule."
   ]
  },
  {
   "cell_type": "code",
   "execution_count": null,
   "metadata": {},
   "outputs": [],
   "source": []
  },
  {
   "cell_type": "markdown",
   "metadata": {},
   "source": [
    "Maintenant que nous pouvons calculer le $pgcd$, nous devons trouver les nombres premiers qui divisent $m$. Ecrire un algorithme qui donne les premiers nombres entier. Nous rappelons qu'un nombre premier est seulement divisible par lui-même et par $1$."
   ]
  },
  {
   "cell_type": "code",
   "execution_count": null,
   "metadata": {},
   "outputs": [],
   "source": []
  },
  {
   "cell_type": "markdown",
   "metadata": {},
   "source": [
    "Prendre $m=16$ et trouver les valeurs de $a$ et de $c$ qui permettent d'avoir une période optimale pour le générateur congruentiel linéaire. On prendra $a$ et $c$ positifs et inférieurs à $m$. On séparera les cas $c\\neq 0$ et $c=0$."
   ]
  },
  {
   "cell_type": "markdown",
   "metadata": {},
   "source": [
    "**Correction possible**"
   ]
  },
  {
   "cell_type": "code",
   "execution_count": 3,
   "metadata": {},
   "outputs": [
    {
     "name": "stdout",
     "output_type": "stream",
     "text": [
      "a = 1 c = 1 m = 24\n",
      "a = 13 c = 1 m = 24\n",
      "a = 1 c = 5 m = 24\n",
      "a = 13 c = 5 m = 24\n",
      "a = 1 c = 7 m = 24\n",
      "a = 13 c = 7 m = 24\n",
      "a = 1 c = 11 m = 24\n",
      "a = 13 c = 11 m = 24\n",
      "a = 1 c = 13 m = 24\n",
      "a = 13 c = 13 m = 24\n",
      "a = 1 c = 17 m = 24\n",
      "a = 13 c = 17 m = 24\n",
      "a = 1 c = 19 m = 24\n",
      "a = 13 c = 19 m = 24\n",
      "a = 1 c = 23 m = 24\n",
      "a = 13 c = 23 m = 24\n"
     ]
    }
   ],
   "source": [
    "std::size_t m = 24;\n",
    "\n",
    "// primes number that divide m\n",
    "std::vector<std::size_t> primes;\n",
    "for(std::size_t p=2; p<m; ++p)\n",
    "{\n",
    "    bool is_prime = true;\n",
    "    for(std::size_t i=2; i<p; ++i)\n",
    "    {\n",
    "        if (p%i == 0)\n",
    "        {\n",
    "            is_prime = false;\n",
    "            break;\n",
    "        }\n",
    "    }\n",
    "    if (is_prime and m%p == 0)\n",
    "    {\n",
    "        primes.push_back(p);\n",
    "    }\n",
    "}\n",
    "\n",
    "\n",
    "for(std::size_t c = 1; c < m; ++c)\n",
    "{\n",
    "    std::size_t m_tmp = m, c_tmp = c;\n",
    "    while (c_tmp != 0)\n",
    "    {\n",
    "        std::size_t t = c_tmp;\n",
    "        c_tmp = m_tmp%c_tmp;\n",
    "        m_tmp = t;\n",
    "    }\n",
    "    if (m_tmp == 1)\n",
    "    {\n",
    "        for(std::size_t a = 1; a < m; ++a)\n",
    "        {\n",
    "            bool good_choice = (m%4==0)? (a-1)%4==0: true;\n",
    "            for(std::size_t i = 0; i < primes.size(); ++i)\n",
    "            {\n",
    "                if ((a-1)%primes[i] != 0)\n",
    "                {\n",
    "                    good_choice = false;\n",
    "                    break;\n",
    "                }\n",
    "            }\n",
    "            if (good_choice)\n",
    "            {\n",
    "                std::cout << \"a = \" << a << \" c = \" << c << \" m = \" << m << std::endl;\n",
    "            }\n",
    "        }\n",
    "    }        \n",
    "}"
   ]
  },
  {
   "cell_type": "markdown",
   "metadata": {},
   "source": [
    "On vérifiera pour quelques valeurs trouvées que la période est bien optimale."
   ]
  },
  {
   "cell_type": "code",
   "execution_count": 7,
   "metadata": {},
   "outputs": [
    {
     "name": "stdout",
     "output_type": "stream",
     "text": [
      "avec X0 = 0, la suite : 0 23 10 9 20 19 6 5 16 15 2 1 12 11 22 21 8 7 18 17 4 3 14 13 0 23 10 9 20 19 6 \n",
      "avec X0 = 1, la suite : 1 12 11 22 21 8 7 18 17 4 3 14 13 0 23 10 9 20 19 6 5 16 15 2 1 12 11 22 21 8 7 \n",
      "avec X0 = 2, la suite : 2 1 12 11 22 21 8 7 18 17 4 3 14 13 0 23 10 9 20 19 6 5 16 15 2 1 12 11 22 21 8 \n",
      "avec X0 = 3, la suite : 3 14 13 0 23 10 9 20 19 6 5 16 15 2 1 12 11 22 21 8 7 18 17 4 3 14 13 0 23 10 9 \n",
      "avec X0 = 4, la suite : 4 3 14 13 0 23 10 9 20 19 6 5 16 15 2 1 12 11 22 21 8 7 18 17 4 3 14 13 0 23 10 \n",
      "avec X0 = 5, la suite : 5 16 15 2 1 12 11 22 21 8 7 18 17 4 3 14 13 0 23 10 9 20 19 6 5 16 15 2 1 12 11 \n",
      "avec X0 = 6, la suite : 6 5 16 15 2 1 12 11 22 21 8 7 18 17 4 3 14 13 0 23 10 9 20 19 6 5 16 15 2 1 12 \n",
      "avec X0 = 7, la suite : 7 18 17 4 3 14 13 0 23 10 9 20 19 6 5 16 15 2 1 12 11 22 21 8 7 18 17 4 3 14 13 \n",
      "avec X0 = 8, la suite : 8 7 18 17 4 3 14 13 0 23 10 9 20 19 6 5 16 15 2 1 12 11 22 21 8 7 18 17 4 3 14 \n",
      "avec X0 = 9, la suite : 9 20 19 6 5 16 15 2 1 12 11 22 21 8 7 18 17 4 3 14 13 0 23 10 9 20 19 6 5 16 15 \n",
      "avec X0 = 10, la suite : 10 9 20 19 6 5 16 15 2 1 12 11 22 21 8 7 18 17 4 3 14 13 0 23 10 9 20 19 6 5 16 \n",
      "avec X0 = 11, la suite : 11 22 21 8 7 18 17 4 3 14 13 0 23 10 9 20 19 6 5 16 15 2 1 12 11 22 21 8 7 18 17 \n",
      "avec X0 = 12, la suite : 12 11 22 21 8 7 18 17 4 3 14 13 0 23 10 9 20 19 6 5 16 15 2 1 12 11 22 21 8 7 18 \n",
      "avec X0 = 13, la suite : 13 0 23 10 9 20 19 6 5 16 15 2 1 12 11 22 21 8 7 18 17 4 3 14 13 0 23 10 9 20 19 \n",
      "avec X0 = 14, la suite : 14 13 0 23 10 9 20 19 6 5 16 15 2 1 12 11 22 21 8 7 18 17 4 3 14 13 0 23 10 9 20 \n",
      "avec X0 = 15, la suite : 15 2 1 12 11 22 21 8 7 18 17 4 3 14 13 0 23 10 9 20 19 6 5 16 15 2 1 12 11 22 21 \n",
      "avec X0 = 16, la suite : 16 15 2 1 12 11 22 21 8 7 18 17 4 3 14 13 0 23 10 9 20 19 6 5 16 15 2 1 12 11 22 \n",
      "avec X0 = 17, la suite : 17 4 3 14 13 0 23 10 9 20 19 6 5 16 15 2 1 12 11 22 21 8 7 18 17 4 3 14 13 0 23 \n",
      "avec X0 = 18, la suite : 18 17 4 3 14 13 0 23 10 9 20 19 6 5 16 15 2 1 12 11 22 21 8 7 18 17 4 3 14 13 0 \n",
      "avec X0 = 19, la suite : 19 6 5 16 15 2 1 12 11 22 21 8 7 18 17 4 3 14 13 0 23 10 9 20 19 6 5 16 15 2 1 \n",
      "avec X0 = 20, la suite : 20 19 6 5 16 15 2 1 12 11 22 21 8 7 18 17 4 3 14 13 0 23 10 9 20 19 6 5 16 15 2 \n",
      "avec X0 = 21, la suite : 21 8 7 18 17 4 3 14 13 0 23 10 9 20 19 6 5 16 15 2 1 12 11 22 21 8 7 18 17 4 3 \n",
      "avec X0 = 22, la suite : 22 21 8 7 18 17 4 3 14 13 0 23 10 9 20 19 6 5 16 15 2 1 12 11 22 21 8 7 18 17 4 \n",
      "avec X0 = 23, la suite : 23 10 9 20 19 6 5 16 15 2 1 12 11 22 21 8 7 18 17 4 3 14 13 0 23 10 9 20 19 6 5 \n"
     ]
    }
   ],
   "source": [
    "int a = 13, c = 23, m = 24;\n",
    "for(std::size_t j = 0; j < m; ++j)\n",
    "{\n",
    "    std::cout << \"avec X0 = \" << j << \", la suite : \";\n",
    "    \n",
    "    int x = j;\n",
    "    std::cout << x << \" \";\n",
    "    for (std::size_t i=0; i<30; ++i)\n",
    "    {\n",
    "        x = (a*x + c)%m;\n",
    "        std::cout << x << \" \";\n",
    "    }\n",
    "    std::cout << std::endl;\n",
    "}"
   ]
  },
  {
   "cell_type": "markdown",
   "metadata": {},
   "source": [
    "## Recherche de cycle"
   ]
  },
  {
   "cell_type": "markdown",
   "metadata": {},
   "source": [
    "Lors de la construction d'un générateur de nombres pseudo-aléatoires, nous avons vu qu'il était important d'avoir une période maximale, c'est-à-dire égale à $m$. Nous aimerions donc savoir pour un jeu de paramètres $a$, $c$, $m$ et $X_0$ quelle est la période et vérifier qu'elle est bien optimale.\n",
    "\n",
    "Pour ce faire, nous allons implémenter différents algortihmes qui recherchent des cycles dans une suite récurrente de nombres."
   ]
  },
  {
   "cell_type": "markdown",
   "metadata": {},
   "source": [
    "### Algorithme de Floyd"
   ]
  },
  {
   "cell_type": "markdown",
   "metadata": {},
   "source": [
    "L'algorithme de Floyd de détection de cycle repose sur la propriété suivante : si la suite admet un cycle, alors il existe un indice $i$ avec $a_{i}=a_{2i}$ et $\\mu \\leq i \\leq \\mu + \\lambda$. Ainsi, l'algorithme consiste à parcourir la séquence simultanément à deux vitesses différentes : à vitesse 1 pour la tortue et à vitesse 2 pour le lièvre. Autrement dit, l'algorithme inspecte les couples :\n",
    "\n",
    "($a_1$, $a_2$), ($a_2$, $a_4$), ($a_3$, $a_6$), ($a_4$, $a_8$), etc.\n",
    "\n",
    "L'algorithme trouve le premier indice $i$ tel que $a_{i}=a_{2i}$. Dès lors, $2 i − i = i$ est un multiple de la longueur du cycle $\\lambda$.\n",
    "\n",
    "Pour déterminer la valeur exacte de $\\lambda$, il suffit de refaire tourner l'algorithme à partir de $i+1$, jusqu'à trouver un autre nombre $i_{1}$ tel que $a_{i_{1}}=a_{2{i_{1}}}$. Dès lors on a d'une part $i_{1}\\leq i+\\lambda$ (car on retombe alors sur $a_{i}$ et d'autre part $\\lambda$ qui divise $i_{1}-i$ (car il divise $i$ et $i_{1}$, donc $\\lambda = i_{1}-i$).\n",
    "\n",
    "Nous allons appliquer cet algorithme au générateur congruentiel linéaire où la suite est donnée par\n",
    "\n",
    "$$\n",
    "X_{n+1} = f(X_n) = (aX_n + c) \\mod m.\n",
    "$$\n",
    "\n",
    "Le pseudo code pour trouver l'indice $i$ dans le cycle peut s'écrire\n",
    "\n",
    "```\n",
    "i := 1\n",
    "tortoise := f(x0)\n",
    "hare := f(f(x0))\n",
    "\n",
    "while tortoise != hare\n",
    "    tortoise := f(tortoise)\n",
    "    hare := f(f(hare))\n",
    "    i := i + 1\n",
    "```\n",
    "\n",
    "Ecrire cet algorithme en C++."
   ]
  },
  {
   "cell_type": "code",
   "execution_count": null,
   "metadata": {},
   "outputs": [],
   "source": []
  },
  {
   "cell_type": "markdown",
   "metadata": {},
   "source": [
    "**correction possible**"
   ]
  },
  {
   "cell_type": "code",
   "execution_count": 10,
   "metadata": {},
   "outputs": [],
   "source": [
    "int a = 25;\n",
    "int c = 16;\n",
    "int m = 256;"
   ]
  },
  {
   "cell_type": "code",
   "execution_count": 11,
   "metadata": {},
   "outputs": [],
   "source": [
    "std::size_t x0 = 50;\n",
    "std::size_t lambda;"
   ]
  },
  {
   "cell_type": "code",
   "execution_count": 39,
   "metadata": {},
   "outputs": [],
   "source": [
    "std::size_t tortoise = (a*x0 + c)%m;\n",
    "std::size_t hare = (a*((a*x0 + c)%m) + c)%m;\n",
    "\n",
    "while (tortoise != hare)\n",
    "{\n",
    "    tortoise = (a*tortoise + c)%m;\n",
    "    hare = (a*((a*hare + c)%m) + c)%m;\n",
    "}\n",
    "\n",
    "/*lam = 1;\n",
    "hare = (a*tortoise + c)%m;\n",
    "while (tortoise != hare)\n",
    "{\n",
    "    hare = (a*hare + c)%m;\n",
    "    lam += 1;\n",
    "}*/"
   ]
  },
  {
   "cell_type": "markdown",
   "metadata": {},
   "source": [
    "Nous pouvons à présent trouver la période $\\lambda$ en refaisant le processus à partir de $i + 1$ jusqu'à trouver un autre nombre $i_{1}$ tel que $a_{i_{1}}=a_{2{i_{1}}}$."
   ]
  },
  {
   "cell_type": "code",
   "execution_count": null,
   "metadata": {},
   "outputs": [],
   "source": []
  },
  {
   "cell_type": "markdown",
   "metadata": {},
   "source": [
    "**Correction possible**"
   ]
  },
  {
   "cell_type": "code",
   "execution_count": 40,
   "metadata": {},
   "outputs": [],
   "source": [
    "std::size_t lambda = 0;\n",
    "\n",
    "do\n",
    "{\n",
    "    lambda++;\n",
    "    tortoise = (a*tortoise + c)%m;\n",
    "    hare = (a*((a*hare + c)%m) + c)%m;\n",
    "}while (tortoise != hare);"
   ]
  },
  {
   "cell_type": "code",
   "execution_count": 41,
   "metadata": {},
   "outputs": [
    {
     "data": {
      "text/plain": [
       "4"
      ]
     },
     "execution_count": 41,
     "metadata": {},
     "output_type": "execute_result"
    }
   ],
   "source": [
    "lambda"
   ]
  },
  {
   "cell_type": "markdown",
   "metadata": {},
   "source": [
    "### Algorithme de Brent"
   ]
  },
  {
   "cell_type": "markdown",
   "metadata": {},
   "source": [
    "Richard P. Brent a décrit un autre algorithme de détection de cycle qui, comme l'algorithme de la tortue et du lièvre, ne nécessite que deux pointeurs dans la séquence. Cependant, il est basé sur un principe différent : la recherche de la plus petite puissance de deux $2^i$ qui est plus grande que $\\lambda$ et $\\mu$. Pour $i = 0, 1, 2, \\cdots$, l'algorithme compare $x_{2^i-1}$ avec chaque valeur de séquence suivante jusqu'à la puissance de deux suivante, s'arrêtant lorsqu'il trouve une correspondance. Il présente deux avantages par rapport à l'algorithme du lièvre et de la tortue : il trouve directement la longueur correcte $\\lambda$ du cycle, sans avoir à la rechercher dans une étape ultérieure, et ses étapes n'impliquent qu'une seule évaluation de $f$ au lieu de trois dans le cas de l'algorithme de Floyd. \n",
    "\n",
    "Le pseudo code est le suivant\n",
    "\n",
    "```\n",
    "lambda := 1\n",
    "power := 1\n",
    "tortoise := x0\n",
    "hare := f(x0)\n",
    "while tortoise != hare\n",
    "    if power == lambda\n",
    "        tortoise := hare\n",
    "        power := 2*power\n",
    "        lambda := 0\n",
    "        \n",
    "    hare := f(hare)\n",
    "    lambda := lambda + 1\n",
    "```\n",
    "\n",
    "Ecrire cet algorithme en C++."
   ]
  },
  {
   "cell_type": "code",
   "execution_count": null,
   "metadata": {},
   "outputs": [],
   "source": []
  },
  {
   "cell_type": "markdown",
   "metadata": {},
   "source": [
    "**Correction possible**"
   ]
  },
  {
   "cell_type": "code",
   "execution_count": 42,
   "metadata": {},
   "outputs": [],
   "source": [
    "std::size_t power = lambda = 1;\n",
    "tortoise = x0;\n",
    "hare = (a*x0 + c)%m;\n",
    "while (tortoise != hare)\n",
    "{\n",
    "    if (power == lambda)\n",
    "    {\n",
    "        tortoise = hare;\n",
    "        power <<= 1 ;\n",
    "        lambda = 0;\n",
    "    }\n",
    "    hare = (a*hare + c)%m;\n",
    "    lambda++;\n",
    "}"
   ]
  },
  {
   "cell_type": "code",
   "execution_count": 43,
   "metadata": {},
   "outputs": [
    {
     "data": {
      "text/plain": [
       "4"
      ]
     },
     "execution_count": 43,
     "metadata": {},
     "output_type": "execute_result"
    }
   ],
   "source": [
    "lambda"
   ]
  },
  {
   "cell_type": "markdown",
   "metadata": {},
   "source": [
    "### Algorithme de Gosper"
   ]
  },
  {
   "cell_type": "code",
   "execution_count": 2,
   "metadata": {},
   "outputs": [],
   "source": [
    "int a = 25;\n",
    "int c = 16;\n",
    "int m = 256;"
   ]
  },
  {
   "cell_type": "code",
   "execution_count": 8,
   "metadata": {},
   "outputs": [],
   "source": [
    "std::size_t x0 = 50;\n",
    "std::size_t lambda;"
   ]
  },
  {
   "cell_type": "code",
   "execution_count": 14,
   "metadata": {},
   "outputs": [],
   "source": [
    "std::size_t w = 32;\n",
    "std::vector<std::size_t> T(w);\n",
    "\n",
    "T[0] = x0;\n",
    "std::size_t xn = x0;\n",
    "\n",
    "for (std::size_t n = 1; n<10; ++n)\n",
    "{\n",
    "    xn = (a*xn + c)%m;\n",
    "    std::size_t t = 1 << (w-1);\n",
    "    std::size_t nlz = 0;\n",
    "    \n",
    "    while ((n&t) == 0)\n",
    "    {\n",
    "        t >>= 1;\n",
    "        nlz++;\n",
    "    }\n",
    "        \n",
    "    std::size_t kmax = w - 1 - nlz;\n",
    "    bool found = false;\n",
    "    std::size_t k = 0;\n",
    "    while(k <= kmax)\n",
    "    {\n",
    "        if (xn == T[k])\n",
    "        {\n",
    "            found = true;\n",
    "            break;\n",
    "        }\n",
    "        k++;\n",
    "    }\n",
    "\n",
    "    if (found)\n",
    "    {\n",
    "        std::size_t m = ((((n >> k) - 1) | 1) << k) - 1;\n",
    "        lambda = n - m;\n",
    "        break;\n",
    "    }\n",
    "\n",
    "    t = 1;\n",
    "    std::size_t ntz = 0;\n",
    "    \n",
    "    while (((n+1)&t) == 0)\n",
    "    {\n",
    "        t <<= 1;\n",
    "        ntz++;\n",
    "    }\n",
    "\n",
    "    T[ntz] = xn;\n",
    "}"
   ]
  },
  {
   "cell_type": "code",
   "execution_count": 15,
   "metadata": {},
   "outputs": [
    {
     "data": {
      "text/plain": [
       "4"
      ]
     },
     "execution_count": 15,
     "metadata": {},
     "output_type": "execute_result"
    }
   ],
   "source": [
    "lambda"
   ]
  },
  {
   "cell_type": "code",
   "execution_count": null,
   "metadata": {},
   "outputs": [],
   "source": []
  }
 ],
 "metadata": {
  "kernelspec": {
   "display_name": "C++14",
   "language": "C++14",
   "name": "xcpp14"
  },
  "language_info": {
   "codemirror_mode": "text/x-c++src",
   "file_extension": ".cpp",
   "mimetype": "text/x-c++src",
   "name": "c++",
   "version": "14"
  }
 },
 "nbformat": 4,
 "nbformat_minor": 4
}
